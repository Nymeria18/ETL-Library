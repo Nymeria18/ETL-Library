{
 "cells": [
  {
   "cell_type": "code",
   "execution_count": 2,
   "metadata": {},
   "outputs": [],
   "source": [
    "from pyspark.sql import SQLContext\n",
    "import pyspark.sql.functions\n",
    "from pyspark.sql.functions import avg,col\n",
    "import pyspark.sql.types"
   ]
  },
  {
   "cell_type": "code",
   "execution_count": 3,
   "metadata": {},
   "outputs": [
    {
     "name": "stdout",
     "output_type": "stream",
     "text": [
      "Select the input format\n",
      "1.csv\n",
      "2.json\n",
      "3.jbdc\n",
      "4.orc\n",
      "5.paraquet\n",
      "6.libsvm\n",
      "7.text csv\n",
      "Enter the path /home/nymeria/Downloads/winemag-data_first150k.csv\n"
     ]
    }
   ],
   "source": [
    "sqlContext=SQLContext(sc)\n",
    "form=raw_input(\"Select the input format\\n1.csv\\n2.json\\n3.jbdc\\n4.orc\\n5.paraquet\\n6.libsvm\\n7.text \")\n",
    "form=str(form)\n",
    "path=raw_input(\"Enter the path \")\n",
    "path=str(path)\n",
    "df=sqlContext.read.format(form).option(\"header\",\"True\").option(\"inferSchema\", \"True\").load(path)"
   ]
  },
  {
   "cell_type": "code",
   "execution_count": 4,
   "metadata": {},
   "outputs": [
    {
     "data": {
      "text/plain": [
       "[('_c0', 'string'),\n",
       " ('country', 'string'),\n",
       " ('description', 'string'),\n",
       " ('designation', 'string'),\n",
       " ('points', 'string'),\n",
       " ('price', 'string'),\n",
       " ('province', 'string'),\n",
       " ('region_1', 'string'),\n",
       " ('region_2', 'string'),\n",
       " ('variety', 'string'),\n",
       " ('winery', 'string')]"
      ]
     },
     "execution_count": 4,
     "metadata": {},
     "output_type": "execute_result"
    }
   ],
   "source": [
    "df.dtypes"
   ]
  },
  {
   "cell_type": "code",
   "execution_count": 6,
   "metadata": {},
   "outputs": [
    {
     "name": "stdout",
     "output_type": "stream",
     "text": [
      "Change any datatypes? (y/n) y\n",
      "Change for _c0n\n",
      "Change for countrym\n",
      "Change for descriptionn\n",
      "Change for designationn\n",
      "Change for pointsn\n",
      "Change for pricey\n",
      "to data type? double\n",
      "Change for provincen\n",
      "Change for region_1n\n",
      "Change for region_2n\n",
      "Change for varietyn\n",
      "Change for wineryn\n"
     ]
    },
    {
     "data": {
      "text/plain": [
       "[('_c0', 'int'),\n",
       " ('country', 'string'),\n",
       " ('description', 'string'),\n",
       " ('designation', 'string'),\n",
       " ('points', 'string'),\n",
       " ('price', 'double'),\n",
       " ('province', 'string'),\n",
       " ('region_1', 'string'),\n",
       " ('region_2', 'string'),\n",
       " ('variety', 'string'),\n",
       " ('winery', 'string')]"
      ]
     },
     "execution_count": 6,
     "metadata": {},
     "output_type": "execute_result"
    }
   ],
   "source": [
    "cdtype=raw_input(\"Change any datatypes? (y/n) \")\n",
    "if cdtype==\"y\":\n",
    "    for x in df.columns:\n",
    "        ch=raw_input(\"Change for \"+x)\n",
    "        if ch==\"y\":\n",
    "            dt=raw_input(\"to data type? \")\n",
    "            df = df.withColumn(x, df[x].cast(dt))\n",
    "            \n",
    "df.dtypes"
   ]
  },
  {
   "cell_type": "code",
   "execution_count": 7,
   "metadata": {},
   "outputs": [
    {
     "name": "stdout",
     "output_type": "stream",
     "text": [
      "No. of rows in the dataframe=150935\n",
      "No. of columns in the dataframe=11\n"
     ]
    }
   ],
   "source": [
    "print(\"No. of rows in the dataframe=\"+str(df.count()))\n",
    "print(\"No. of columns in the dataframe=\"+str(len(df.columns)))"
   ]
  },
  {
   "cell_type": "code",
   "execution_count": 8,
   "metadata": {},
   "outputs": [],
   "source": [
    "Nulls={}\n",
    "for x in range(len(df.columns)):\n",
    "            dfNoNulls=df.na.drop(how=\"all\",subset=df.columns[x])\n",
    "            Nulls[df.columns[x]]=((df.count()-dfNoNulls.count()))"
   ]
  },
  {
   "cell_type": "code",
   "execution_count": 9,
   "metadata": {},
   "outputs": [
    {
     "name": "stdout",
     "output_type": "stream",
     "text": [
      "{'province': 11, 'description': 1, 'designation': 45733, 'variety': 6, 'region_1': 25059, '_c0': 5, 'price': 13729, 'region_2': 89963, 'points': 6, 'winery': 17, 'country': 5}\n"
     ]
    }
   ],
   "source": [
    "print Nulls"
   ]
  },
  {
   "cell_type": "code",
   "execution_count": 10,
   "metadata": {},
   "outputs": [
    {
     "name": "stdout",
     "output_type": "stream",
     "text": [
      "Threshold value of missing rows to drop column? 15000\n",
      "dropping designation\n",
      "dropping region_1\n",
      "dropping region_2\n"
     ]
    }
   ],
   "source": [
    "threshd=input(\"Threshold value of missing rows to drop column? \")\n",
    "for x in Nulls:\n",
    "    if Nulls[x]>=threshd:\n",
    "        print(\"dropping \"+x)\n",
    "        df=df.drop(x)"
   ]
  },
  {
   "cell_type": "code",
   "execution_count": 11,
   "metadata": {},
   "outputs": [
    {
     "name": "stdout",
     "output_type": "stream",
     "text": [
      "Mean, Mode value for the missing value numeric columns\n"
     ]
    }
   ],
   "source": [
    "print(\"Mean, Mode value for the missing value numeric columns\")\n",
    "nonnull=df.na.drop(how=\"all\")"
   ]
  },
  {
   "cell_type": "code",
   "execution_count": 12,
   "metadata": {},
   "outputs": [
    {
     "name": "stdout",
     "output_type": "stream",
     "text": [
      "Mode or mean for column provincemode\n",
      "0    California\n",
      "dtype: object\n",
      "Select value number to impute from the list above0\n",
      "Mode or mean for column descriptionmode\n",
      "0    86-88 This could work as a rich wine, because ...\n",
      "1    92-94 Barrel sample. A rounded wine, its tanni...\n",
      "2    A little bit funky and unsettled when you pop ...\n",
      "3    Powerful in Zinny character, this blend of Dry...\n",
      "dtype: object\n",
      "Select value number to impute from the list above0\n",
      "Mode or mean for column varietymode\n",
      "0    Chardonnay\n",
      "dtype: object\n",
      "Select value number to impute from the list above0\n",
      "Mode or mean for column _c0mean\n",
      "75464.5\n",
      "Mode or mean for column pricemean\n",
      "33.1310292553\n",
      "Mode or mean for column pointsmode\n",
      "0    87\n",
      "dtype: object\n",
      "Select value number to impute from the list above0\n",
      "Mode or mean for column winerymode\n",
      "0    Williams Selyem\n",
      "dtype: object\n",
      "Select value number to impute from the list above0\n",
      "Mode or mean for column countrymode\n",
      "0    US\n",
      "dtype: object\n",
      "Select value number to impute from the list above0\n"
     ]
    }
   ],
   "source": [
    "for x in Nulls:\n",
    "        if Nulls[x]>0 and Nulls[x]<=threshd:\n",
    "            mm=raw_input(\"Mode or mean for column \"+str(x))\n",
    "            if mm == \"mean\":\n",
    "                meanValue=nonnull.agg(avg(col(x))).first()[0]\n",
    "                print(meanValue)\n",
    "                df=df.na.fill(meanValue, [x])\n",
    "            elif mm == \"mode\":\n",
    "                import pandas as pd\n",
    "                pdf=df.toPandas()\n",
    "                moder=pdf.loc[:,x].mode()\n",
    "                print(moder)\n",
    "                val=input(\"Select value number to impute from the list above\")\n",
    "                df=df.na.fill(moder[val], [x])"
   ]
  },
  {
   "cell_type": "code",
   "execution_count": 20,
   "metadata": {},
   "outputs": [
    {
     "name": "stdout",
     "output_type": "stream",
     "text": [
      "['_c0', 'price']\n"
     ]
    }
   ],
   "source": [
    "intp=[]\n",
    "for x,y in df.dtypes:\n",
    "    if y=='int':\n",
    "        intp.append(x)\n",
    "    elif y=='float':\n",
    "         intp.append(x)\n",
    "    elif y=='double':\n",
    "        intp.append(x)\n",
    "print intp"
   ]
  },
  {
   "cell_type": "code",
   "execution_count": 14,
   "metadata": {},
   "outputs": [
    {
     "name": "stdout",
     "output_type": "stream",
     "text": [
      "Performing nomalization\n",
      "Select type:\n",
      "1.$L^1$ norm\n",
      "2.$L^\\infty$$L^1$\n"
     ]
    }
   ],
   "source": [
    "from pyspark.mllib.util import MLUtils\n",
    "from pyspark.ml.feature import Normalizer\n",
    "\n",
    "Normopt=raw_input(\"Performing nomalization\\nSelect type:\\n1.$L^1$ norm\\n2.$L^\\infty$\")\n",
    "\n",
    "if Normopt is \"$L^1$\":\n",
    "    for x in intp:\n",
    "        normalizer = Normalizer(inputCol=x, outputCol=x, p=1.0)\n",
    "        l1NormData = normalizer.transform(df)\n",
    "elif Normopt is \"$L^\\infty$\":\n",
    "    for x in intp:\n",
    "        lInfNormData = normalizer.transform(df, {normalizer.p: float(x)})"
   ]
  },
  {
   "cell_type": "code",
   "execution_count": 21,
   "metadata": {
    "scrolled": true
   },
   "outputs": [],
   "source": [
    "a=intp\n",
    "b=intp\n",
    "\n",
    "li=[]\n",
    "\n",
    "for x in a:\n",
    "    for y in b:\n",
    "        if x is not y:\n",
    "            li.append(x)\n",
    "            li.append(y)\n",
    "            li.append(df.corr(x,y))\n",
    "    \n",
    "pair=[]\n",
    "\n",
    "for x in range(0,len(li)/3):\n",
    "    temp=[]\n",
    "    temp.append(li[x*3])\n",
    "    temp.append(li[(x*3)+1])\n",
    "    temp.append(li[(x*3)+2])\n",
    "    \n",
    "    \n",
    "    pair.append(temp)\n",
    "    "
   ]
  },
  {
   "cell_type": "code",
   "execution_count": 22,
   "metadata": {},
   "outputs": [
    {
     "name": "stdout",
     "output_type": "stream",
     "text": [
      "Enter the correlation threshold0.9\n",
      "The feature pairs with corr coeff more than threshold are:\n"
     ]
    }
   ],
   "source": [
    "threscorr=input(\"Enter the correlation threshold\")\n",
    "print(\"The feature pairs with corr coeff more than threshold are:\")\n",
    "\n",
    "for x in range(0,len(pair)):\n",
    "    corr=pair[x][2]\n",
    "    if corr>=threscorr:\n",
    "        print[pair[x]]\n",
    "        df=df.drop(pair[x][0])\n",
    "        df=df.drop(pair[x][1])"
   ]
  },
  {
   "cell_type": "code",
   "execution_count": null,
   "metadata": {},
   "outputs": [
    {
     "name": "stdout",
     "output_type": "stream",
     "text": [
      "('Exporting dataframe to', 'csv')\n"
     ]
    }
   ],
   "source": [
    "print(\"Exporting dataframe to\",form)\n",
    "pathsave=raw_input(\"The path to save to\")\n",
    "df.write.format(form).save(pathsave)"
   ]
  },
  {
   "cell_type": "code",
   "execution_count": null,
   "metadata": {},
   "outputs": [],
   "source": []
  }
 ],
 "metadata": {
  "kernelspec": {
   "display_name": "Python 3",
   "language": "python",
   "name": "python3"
  },
  "language_info": {
   "codemirror_mode": {
    "name": "ipython",
    "version": 2
   },
   "file_extension": ".py",
   "mimetype": "text/x-python",
   "name": "python",
   "nbconvert_exporter": "python",
   "pygments_lexer": "ipython2",
   "version": "2.7.16"
  }
 },
 "nbformat": 4,
 "nbformat_minor": 2
}
